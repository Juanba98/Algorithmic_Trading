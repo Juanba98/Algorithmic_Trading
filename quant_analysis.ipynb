{
  "cells": [
    {
      "cell_type": "markdown",
      "metadata": {
        "id": "view-in-github",
        "colab_type": "text"
      },
      "source": [
        "<a href=\"https://colab.research.google.com/github/Juanba98/Algorithmic_Trading/blob/main/quant_analysis.ipynb\" target=\"_parent\"><img src=\"https://colab.research.google.com/assets/colab-badge.svg\" alt=\"Open In Colab\"/></a>"
      ]
    },
    {
      "cell_type": "code",
      "source": [
        "!pip install --upgrade pandas\n",
        "!pip install --upgrade pandas-datareader"
      ],
      "metadata": {
        "colab": {
          "base_uri": "https://localhost:8080/"
        },
        "id": "mCR1bZXIksoV",
        "outputId": "69106250-27ec-4f9f-bfd8-a676685057ff"
      },
      "execution_count": 1,
      "outputs": [
        {
          "output_type": "stream",
          "name": "stdout",
          "text": [
            "Looking in indexes: https://pypi.org/simple, https://us-python.pkg.dev/colab-wheels/public/simple/\n",
            "Requirement already satisfied: pandas in /usr/local/lib/python3.7/dist-packages (1.3.5)\n",
            "Requirement already satisfied: pytz>=2017.3 in /usr/local/lib/python3.7/dist-packages (from pandas) (2022.2.1)\n",
            "Requirement already satisfied: numpy>=1.17.3 in /usr/local/lib/python3.7/dist-packages (from pandas) (1.21.6)\n",
            "Requirement already satisfied: python-dateutil>=2.7.3 in /usr/local/lib/python3.7/dist-packages (from pandas) (2.8.2)\n",
            "Requirement already satisfied: six>=1.5 in /usr/local/lib/python3.7/dist-packages (from python-dateutil>=2.7.3->pandas) (1.15.0)\n",
            "Looking in indexes: https://pypi.org/simple, https://us-python.pkg.dev/colab-wheels/public/simple/\n",
            "Requirement already satisfied: pandas-datareader in /usr/local/lib/python3.7/dist-packages (0.10.0)\n",
            "Requirement already satisfied: requests>=2.19.0 in /usr/local/lib/python3.7/dist-packages (from pandas-datareader) (2.23.0)\n",
            "Requirement already satisfied: pandas>=0.23 in /usr/local/lib/python3.7/dist-packages (from pandas-datareader) (1.3.5)\n",
            "Requirement already satisfied: lxml in /usr/local/lib/python3.7/dist-packages (from pandas-datareader) (4.9.1)\n",
            "Requirement already satisfied: python-dateutil>=2.7.3 in /usr/local/lib/python3.7/dist-packages (from pandas>=0.23->pandas-datareader) (2.8.2)\n",
            "Requirement already satisfied: numpy>=1.17.3 in /usr/local/lib/python3.7/dist-packages (from pandas>=0.23->pandas-datareader) (1.21.6)\n",
            "Requirement already satisfied: pytz>=2017.3 in /usr/local/lib/python3.7/dist-packages (from pandas>=0.23->pandas-datareader) (2022.2.1)\n",
            "Requirement already satisfied: six>=1.5 in /usr/local/lib/python3.7/dist-packages (from python-dateutil>=2.7.3->pandas>=0.23->pandas-datareader) (1.15.0)\n",
            "Requirement already satisfied: chardet<4,>=3.0.2 in /usr/local/lib/python3.7/dist-packages (from requests>=2.19.0->pandas-datareader) (3.0.4)\n",
            "Requirement already satisfied: idna<3,>=2.5 in /usr/local/lib/python3.7/dist-packages (from requests>=2.19.0->pandas-datareader) (2.10)\n",
            "Requirement already satisfied: urllib3!=1.25.0,!=1.25.1,<1.26,>=1.21.1 in /usr/local/lib/python3.7/dist-packages (from requests>=2.19.0->pandas-datareader) (1.24.3)\n",
            "Requirement already satisfied: certifi>=2017.4.17 in /usr/local/lib/python3.7/dist-packages (from requests>=2.19.0->pandas-datareader) (2022.6.15)\n"
          ]
        }
      ]
    },
    {
      "cell_type": "markdown",
      "metadata": {
        "id": "I2KqmDdPhQYy"
      },
      "source": [
        "# Quantitative Analysis of Price & Daily Returns\n",
        "* Can returns be described with a normal distribution?\n",
        "* Is daily change non-zero?\n",
        "* Can price movement be described as a random walk?"
      ]
    },
    {
      "cell_type": "markdown",
      "metadata": {
        "id": "QNEeDusDhQY3"
      },
      "source": [
        "### 1. Set up environment "
      ]
    },
    {
      "cell_type": "code",
      "execution_count": 2,
      "metadata": {
        "id": "2RfS3gKahQY4"
      },
      "outputs": [],
      "source": [
        "import numpy as np\n",
        "import pandas as pd\n",
        "import matplotlib.pyplot as plt\n",
        "from matplotlib import rcParams\n",
        "rcParams['figure.figsize'] = 8, 6\n",
        "import seaborn as sb\n",
        "sb.set()\n",
        "import pandas_datareader.data as web"
      ]
    },
    {
      "cell_type": "markdown",
      "metadata": {
        "id": "hdxba5QchQY6"
      },
      "source": [
        "### 2.  Download stock price data, store in dataframe"
      ]
    },
    {
      "cell_type": "code",
      "execution_count": 4,
      "metadata": {
        "id": "1pHeiTx5hQY6"
      },
      "outputs": [],
      "source": [
        "amzn = web.DataReader(name='AMZN', data_source='yahoo')"
      ]
    },
    {
      "cell_type": "markdown",
      "metadata": {
        "id": "vNCEVFZuhQY7"
      },
      "source": [
        "### 3. Take a look at the data"
      ]
    },
    {
      "cell_type": "code",
      "execution_count": 24,
      "metadata": {
        "colab": {
          "base_uri": "https://localhost:8080/",
          "height": 656
        },
        "id": "1r9M_QbqhQY7",
        "outputId": "0ef284f3-2dbf-4cba-e589-9ac7687ab8aa"
      },
      "outputs": [
        {
          "output_type": "execute_result",
          "data": {
            "text/plain": [
              "                  High         Low        Open       Close      Volume  \\\n",
              "Date                                                                     \n",
              "2017-10-03   48.184502   47.518501   47.900002   47.855000  53332000.0   \n",
              "2017-10-04   48.389500   47.702499   47.710499   48.272499  50548000.0   \n",
              "2017-10-05   49.075500   48.481998   48.500000   49.042500  64584000.0   \n",
              "2017-10-06   49.787498   48.782001   48.782001   49.479000  75642000.0   \n",
              "2017-10-09   49.924999   49.375000   49.661999   49.549500  58772000.0   \n",
              "...                ...         ...         ...         ...         ...   \n",
              "2022-09-26  117.339996  113.129997  113.300003  115.150002  62723300.0   \n",
              "2022-09-27  118.320000  113.050003  117.199997  114.410004  60094700.0   \n",
              "2022-09-28  118.699997  113.800003  114.379997  118.010002  55763800.0   \n",
              "2022-09-29  116.070000  113.059998  115.599998  114.800003  58969700.0   \n",
              "2022-09-30  116.919998  112.839996  114.080002  113.000000  59409800.0   \n",
              "\n",
              "             Adj Close  \n",
              "Date                    \n",
              "2017-10-03   47.855000  \n",
              "2017-10-04   48.272499  \n",
              "2017-10-05   49.042500  \n",
              "2017-10-06   49.479000  \n",
              "2017-10-09   49.549500  \n",
              "...                ...  \n",
              "2022-09-26  115.150002  \n",
              "2022-09-27  114.410004  \n",
              "2022-09-28  118.010002  \n",
              "2022-09-29  114.800003  \n",
              "2022-09-30  113.000000  \n",
              "\n",
              "[1258 rows x 6 columns]"
            ],
            "text/html": [
              "\n",
              "  <div id=\"df-052d1222-2301-4707-bf50-f3f266c8fed5\">\n",
              "    <div class=\"colab-df-container\">\n",
              "      <div>\n",
              "<style scoped>\n",
              "    .dataframe tbody tr th:only-of-type {\n",
              "        vertical-align: middle;\n",
              "    }\n",
              "\n",
              "    .dataframe tbody tr th {\n",
              "        vertical-align: top;\n",
              "    }\n",
              "\n",
              "    .dataframe thead th {\n",
              "        text-align: right;\n",
              "    }\n",
              "</style>\n",
              "<table border=\"1\" class=\"dataframe\">\n",
              "  <thead>\n",
              "    <tr style=\"text-align: right;\">\n",
              "      <th></th>\n",
              "      <th>High</th>\n",
              "      <th>Low</th>\n",
              "      <th>Open</th>\n",
              "      <th>Close</th>\n",
              "      <th>Volume</th>\n",
              "      <th>Adj Close</th>\n",
              "    </tr>\n",
              "    <tr>\n",
              "      <th>Date</th>\n",
              "      <th></th>\n",
              "      <th></th>\n",
              "      <th></th>\n",
              "      <th></th>\n",
              "      <th></th>\n",
              "      <th></th>\n",
              "    </tr>\n",
              "  </thead>\n",
              "  <tbody>\n",
              "    <tr>\n",
              "      <th>2017-10-03</th>\n",
              "      <td>48.184502</td>\n",
              "      <td>47.518501</td>\n",
              "      <td>47.900002</td>\n",
              "      <td>47.855000</td>\n",
              "      <td>53332000.0</td>\n",
              "      <td>47.855000</td>\n",
              "    </tr>\n",
              "    <tr>\n",
              "      <th>2017-10-04</th>\n",
              "      <td>48.389500</td>\n",
              "      <td>47.702499</td>\n",
              "      <td>47.710499</td>\n",
              "      <td>48.272499</td>\n",
              "      <td>50548000.0</td>\n",
              "      <td>48.272499</td>\n",
              "    </tr>\n",
              "    <tr>\n",
              "      <th>2017-10-05</th>\n",
              "      <td>49.075500</td>\n",
              "      <td>48.481998</td>\n",
              "      <td>48.500000</td>\n",
              "      <td>49.042500</td>\n",
              "      <td>64584000.0</td>\n",
              "      <td>49.042500</td>\n",
              "    </tr>\n",
              "    <tr>\n",
              "      <th>2017-10-06</th>\n",
              "      <td>49.787498</td>\n",
              "      <td>48.782001</td>\n",
              "      <td>48.782001</td>\n",
              "      <td>49.479000</td>\n",
              "      <td>75642000.0</td>\n",
              "      <td>49.479000</td>\n",
              "    </tr>\n",
              "    <tr>\n",
              "      <th>2017-10-09</th>\n",
              "      <td>49.924999</td>\n",
              "      <td>49.375000</td>\n",
              "      <td>49.661999</td>\n",
              "      <td>49.549500</td>\n",
              "      <td>58772000.0</td>\n",
              "      <td>49.549500</td>\n",
              "    </tr>\n",
              "    <tr>\n",
              "      <th>...</th>\n",
              "      <td>...</td>\n",
              "      <td>...</td>\n",
              "      <td>...</td>\n",
              "      <td>...</td>\n",
              "      <td>...</td>\n",
              "      <td>...</td>\n",
              "    </tr>\n",
              "    <tr>\n",
              "      <th>2022-09-26</th>\n",
              "      <td>117.339996</td>\n",
              "      <td>113.129997</td>\n",
              "      <td>113.300003</td>\n",
              "      <td>115.150002</td>\n",
              "      <td>62723300.0</td>\n",
              "      <td>115.150002</td>\n",
              "    </tr>\n",
              "    <tr>\n",
              "      <th>2022-09-27</th>\n",
              "      <td>118.320000</td>\n",
              "      <td>113.050003</td>\n",
              "      <td>117.199997</td>\n",
              "      <td>114.410004</td>\n",
              "      <td>60094700.0</td>\n",
              "      <td>114.410004</td>\n",
              "    </tr>\n",
              "    <tr>\n",
              "      <th>2022-09-28</th>\n",
              "      <td>118.699997</td>\n",
              "      <td>113.800003</td>\n",
              "      <td>114.379997</td>\n",
              "      <td>118.010002</td>\n",
              "      <td>55763800.0</td>\n",
              "      <td>118.010002</td>\n",
              "    </tr>\n",
              "    <tr>\n",
              "      <th>2022-09-29</th>\n",
              "      <td>116.070000</td>\n",
              "      <td>113.059998</td>\n",
              "      <td>115.599998</td>\n",
              "      <td>114.800003</td>\n",
              "      <td>58969700.0</td>\n",
              "      <td>114.800003</td>\n",
              "    </tr>\n",
              "    <tr>\n",
              "      <th>2022-09-30</th>\n",
              "      <td>116.919998</td>\n",
              "      <td>112.839996</td>\n",
              "      <td>114.080002</td>\n",
              "      <td>113.000000</td>\n",
              "      <td>59409800.0</td>\n",
              "      <td>113.000000</td>\n",
              "    </tr>\n",
              "  </tbody>\n",
              "</table>\n",
              "<p>1258 rows × 6 columns</p>\n",
              "</div>\n",
              "      <button class=\"colab-df-convert\" onclick=\"convertToInteractive('df-052d1222-2301-4707-bf50-f3f266c8fed5')\"\n",
              "              title=\"Convert this dataframe to an interactive table.\"\n",
              "              style=\"display:none;\">\n",
              "        \n",
              "  <svg xmlns=\"http://www.w3.org/2000/svg\" height=\"24px\"viewBox=\"0 0 24 24\"\n",
              "       width=\"24px\">\n",
              "    <path d=\"M0 0h24v24H0V0z\" fill=\"none\"/>\n",
              "    <path d=\"M18.56 5.44l.94 2.06.94-2.06 2.06-.94-2.06-.94-.94-2.06-.94 2.06-2.06.94zm-11 1L8.5 8.5l.94-2.06 2.06-.94-2.06-.94L8.5 2.5l-.94 2.06-2.06.94zm10 10l.94 2.06.94-2.06 2.06-.94-2.06-.94-.94-2.06-.94 2.06-2.06.94z\"/><path d=\"M17.41 7.96l-1.37-1.37c-.4-.4-.92-.59-1.43-.59-.52 0-1.04.2-1.43.59L10.3 9.45l-7.72 7.72c-.78.78-.78 2.05 0 2.83L4 21.41c.39.39.9.59 1.41.59.51 0 1.02-.2 1.41-.59l7.78-7.78 2.81-2.81c.8-.78.8-2.07 0-2.86zM5.41 20L4 18.59l7.72-7.72 1.47 1.35L5.41 20z\"/>\n",
              "  </svg>\n",
              "      </button>\n",
              "      \n",
              "  <style>\n",
              "    .colab-df-container {\n",
              "      display:flex;\n",
              "      flex-wrap:wrap;\n",
              "      gap: 12px;\n",
              "    }\n",
              "\n",
              "    .colab-df-convert {\n",
              "      background-color: #E8F0FE;\n",
              "      border: none;\n",
              "      border-radius: 50%;\n",
              "      cursor: pointer;\n",
              "      display: none;\n",
              "      fill: #1967D2;\n",
              "      height: 32px;\n",
              "      padding: 0 0 0 0;\n",
              "      width: 32px;\n",
              "    }\n",
              "\n",
              "    .colab-df-convert:hover {\n",
              "      background-color: #E2EBFA;\n",
              "      box-shadow: 0px 1px 2px rgba(60, 64, 67, 0.3), 0px 1px 3px 1px rgba(60, 64, 67, 0.15);\n",
              "      fill: #174EA6;\n",
              "    }\n",
              "\n",
              "    [theme=dark] .colab-df-convert {\n",
              "      background-color: #3B4455;\n",
              "      fill: #D2E3FC;\n",
              "    }\n",
              "\n",
              "    [theme=dark] .colab-df-convert:hover {\n",
              "      background-color: #434B5C;\n",
              "      box-shadow: 0px 1px 3px 1px rgba(0, 0, 0, 0.15);\n",
              "      filter: drop-shadow(0px 1px 2px rgba(0, 0, 0, 0.3));\n",
              "      fill: #FFFFFF;\n",
              "    }\n",
              "  </style>\n",
              "\n",
              "      <script>\n",
              "        const buttonEl =\n",
              "          document.querySelector('#df-052d1222-2301-4707-bf50-f3f266c8fed5 button.colab-df-convert');\n",
              "        buttonEl.style.display =\n",
              "          google.colab.kernel.accessAllowed ? 'block' : 'none';\n",
              "\n",
              "        async function convertToInteractive(key) {\n",
              "          const element = document.querySelector('#df-052d1222-2301-4707-bf50-f3f266c8fed5');\n",
              "          const dataTable =\n",
              "            await google.colab.kernel.invokeFunction('convertToInteractive',\n",
              "                                                     [key], {});\n",
              "          if (!dataTable) return;\n",
              "\n",
              "          const docLinkHtml = 'Like what you see? Visit the ' +\n",
              "            '<a target=\"_blank\" href=https://colab.research.google.com/notebooks/data_table.ipynb>data table notebook</a>'\n",
              "            + ' to learn more about interactive tables.';\n",
              "          element.innerHTML = '';\n",
              "          dataTable['output_type'] = 'display_data';\n",
              "          await google.colab.output.renderOutput(dataTable, element);\n",
              "          const docLink = document.createElement('div');\n",
              "          docLink.innerHTML = docLinkHtml;\n",
              "          element.appendChild(docLink);\n",
              "        }\n",
              "      </script>\n",
              "    </div>\n",
              "  </div>\n",
              "  "
            ]
          },
          "metadata": {},
          "execution_count": 24
        }
      ],
      "source": [
        "amzn"
      ]
    },
    {
      "cell_type": "markdown",
      "metadata": {
        "id": "7cvrX9hBhQY9"
      },
      "source": [
        "### 4. Store instantaneous rate of return in separate series"
      ]
    },
    {
      "cell_type": "code",
      "execution_count": 31,
      "metadata": {
        "colab": {
          "base_uri": "https://localhost:8080/"
        },
        "id": "XRWDxhBshQY9",
        "outputId": "aacd486b-4bd7-462c-9039-5cee51493dbc"
      },
      "outputs": [
        {
          "output_type": "execute_result",
          "data": {
            "text/plain": [
              "Date\n",
              "2017-10-03     NaN\n",
              "2017-10-04    0.87\n",
              "2017-10-05    1.58\n",
              "2017-10-06    0.89\n",
              "2017-10-09    0.14\n",
              "              ... \n",
              "2022-09-26    1.20\n",
              "2022-09-27   -0.64\n",
              "2022-09-28    3.10\n",
              "2022-09-29   -2.76\n",
              "2022-09-30   -1.58\n",
              "Name: Close, Length: 1258, dtype: float64"
            ]
          },
          "metadata": {},
          "execution_count": 31
        }
      ],
      "source": [
        "amzn_close = amzn['Close']\n",
        "#https://pandas.pydata.org/docs/reference/api/pandas.DataFrame.diff.html\n",
        "# diff() => output[i] = row[i] - row[i+1] \n",
        "amzn_return  =  round(np.log(amzn_close).diff() * 100, 2)\n",
        "amzn_return"
      ]
    },
    {
      "cell_type": "markdown",
      "metadata": {
        "id": "lhbQ9RC2hQY-"
      },
      "source": [
        "### 5. Plot the series "
      ]
    },
    {
      "cell_type": "code",
      "execution_count": 25,
      "metadata": {
        "colab": {
          "base_uri": "https://localhost:8080/",
          "height": 400
        },
        "id": "hNrIMCuOhQY_",
        "outputId": "dd591855-c6f2-435c-da39-393b9227d5ed"
      },
      "outputs": [
        {
          "output_type": "execute_result",
          "data": {
            "text/plain": [
              "<matplotlib.axes._subplots.AxesSubplot at 0x7f8fac096cd0>"
            ]
          },
          "metadata": {},
          "execution_count": 25
        },
        {
          "output_type": "display_data",
          "data": {
            "text/plain": [
              "<Figure size 576x432 with 1 Axes>"
            ],
            "image/png": "[encoded data removed]"
          },
          "metadata": {}
        }
      ],
      "source": [
        "amzn_return[-252:].plot()"
      ]
    },
    {
      "cell_type": "markdown",
      "metadata": {
        "id": "y0Ub9Zo6hQY_"
      },
      "source": [
        "### 6. Pandas describe function gives descriptive statistics, default assumes you are dealing with a sample Pandas also deals with missing values by omitting them "
      ]
    },
    {
      "cell_type": "code",
      "execution_count": 32,
      "metadata": {
        "colab": {
          "base_uri": "https://localhost:8080/"
        },
        "id": "bIQq_41VhQZA",
        "outputId": "15d6a3a9-f243-43c3-e2c4-3176c17da986"
      },
      "outputs": [
        {
          "output_type": "execute_result",
          "data": {
            "text/plain": [
              "count    1257.000000\n",
              "mean        0.068385\n",
              "std         2.186879\n",
              "min       -15.140000\n",
              "25%        -0.940000\n",
              "50%         0.140000\n",
              "75%         1.130000\n",
              "max        12.690000\n",
              "Name: Close, dtype: float64"
            ]
          },
          "metadata": {},
          "execution_count": 32
        }
      ],
      "source": [
        "amzn_return.dropna(inplace=True)\n",
        "amzn_return.describe()"
      ]
    },
    {
      "cell_type": "markdown",
      "metadata": {
        "id": "53QjHqd-hQZA"
      },
      "source": [
        "### 7. An alternative more slightly  different table of descriptives from scipy stats"
      ]
    },
    {
      "cell_type": "code",
      "execution_count": 27,
      "metadata": {
        "id": "iModaO-ZhQZB"
      },
      "outputs": [],
      "source": [
        "from scipy import stats"
      ]
    },
    {
      "cell_type": "code",
      "execution_count": 35,
      "metadata": {
        "id": "vfejzl3QhQZB"
      },
      "outputs": [],
      "source": [
        "n, minmax, mean, var, skwe, kurt = stats.describe(amzn_return)\n",
        "mini, maxi = minmax\n",
        "std = var ** .5"
      ]
    },
    {
      "cell_type": "markdown",
      "source": [
        "Fischer's kurtosis, which means it has been normalized. This subtracts 3 from the calculation, so this unnormalized is 7.4 and this describes that there is more observation towards the center. It also tends to mean that there are tails. So we can think that there are a lot of \"boring\" days and often we have these big days"
      ],
      "metadata": {
        "id": "lD8hqjmrtNre"
      }
    },
    {
      "cell_type": "markdown",
      "metadata": {
        "id": "k92w9H3BhQZB"
      },
      "source": [
        "### 9. for comparision generate random numbers that follow normal distribution\n"
      ]
    },
    {
      "cell_type": "code",
      "execution_count": 39,
      "metadata": {
        "id": "KcMPGY-5hQZC"
      },
      "outputs": [],
      "source": [
        "from scipy.stats import norm"
      ]
    },
    {
      "cell_type": "code",
      "execution_count": 42,
      "metadata": {
        "colab": {
          "base_uri": "https://localhost:8080/",
          "height": 377
        },
        "id": "mhy9sYOGhQZC",
        "outputId": "6467f011-6395-448d-bdb2-4ec93209a6c2"
      },
      "outputs": [
        {
          "output_type": "display_data",
          "data": {
            "text/plain": [
              "<Figure size 576x432 with 1 Axes>"
            ],
            "image/png": "[encoded data removed]"
          },
          "metadata": {}
        }
      ],
      "source": [
        "#; to suppress meaningless data\n",
        "plt.hist(amzn_return, bins = 15);"
      ]
    },
    {
      "cell_type": "code",
      "execution_count": 46,
      "metadata": {
        "id": "Xf6XQ82rhQZC"
      },
      "outputs": [],
      "source": [
        "#rvs => Random variates.\n",
        "x = norm.rvs(mean, std, n)"
      ]
    },
    {
      "cell_type": "code",
      "execution_count": 45,
      "metadata": {
        "colab": {
          "base_uri": "https://localhost:8080/",
          "height": 377
        },
        "id": "r_KYAd8XhQZD",
        "outputId": "30cd0ac0-bf13-4e36-a315-2da7773e8cff"
      },
      "outputs": [
        {
          "output_type": "display_data",
          "data": {
            "text/plain": [
              "<Figure size 576x432 with 1 Axes>"
            ],
            "image/png": "[encoded data removed]"
          },
          "metadata": {}
        }
      ],
      "source": [
        "plt.hist(x, bins = 15);"
      ]
    },
    {
      "cell_type": "markdown",
      "metadata": {
        "id": "4rttVqo8hQZE"
      },
      "source": [
        "## Is price change normally distributed?"
      ]
    },
    {
      "cell_type": "markdown",
      "metadata": {
        "id": "nyqCnxUEhQZE"
      },
      "source": [
        "### 10. Use scipy stats to test the kurtosis, the null hypothesis is that the sample is drawn from a population where the underlying kurtosis is that of a normally distributed variable"
      ]
    },
    {
      "cell_type": "code",
      "execution_count": 48,
      "metadata": {
        "colab": {
          "base_uri": "https://localhost:8080/"
        },
        "id": "V6bP6CJshQZE",
        "outputId": "8563c86e-73e1-48cc-d6c3-6d863e342fb7"
      },
      "outputs": [
        {
          "output_type": "stream",
          "name": "stdout",
          "text": [
            "     Test statistic         p-value\n",
            "     ------------------------------\n",
            "x:             0.70          0.4869\n",
            "AMZN:         12.05          0.0000\n"
          ]
        }
      ],
      "source": [
        "#Test whether a dataset has normal kurtosis.\n",
        "x_test = stats.kurtosistest(x)\n",
        "amzn_test = stats.kurtosistest(amzn_return)\n",
        "print(f'{\"     Test statistic\":20}{\"p-value\":>15}')\n",
        "print(f'{\" \"*5}{\"-\"* 30}')\n",
        "print(f\"x:{x_test[0]:>17.2f}{x_test[1]:16.4f}\")\n",
        "print(f\"AMZN: {amzn_test[0]:13.2f}{amzn_test[1]:16.4f}\")"
      ]
    },
    {
      "cell_type": "markdown",
      "source": [
        "This function tests the null hypothesis that the kurtosis of the population from which the sample was drawn is that of the normal distribution. So we have a very low p-value, so we reject $H_{0}$, which means we can't say that amzn_return follows a normal distribution."
      ],
      "metadata": {
        "id": "EgXIrXpBxZdb"
      }
    },
    {
      "cell_type": "markdown",
      "metadata": {
        "id": "grBSsQXLhQZE"
      },
      "source": [
        "### 11. plot histogram of price changes with normal curve overlay\n"
      ]
    },
    {
      "cell_type": "code",
      "execution_count": 55,
      "metadata": {
        "colab": {
          "base_uri": "https://localhost:8080/",
          "height": 377
        },
        "id": "QLOQP9Z0hQZF",
        "outputId": "0d337110-d76e-42a0-8f69-621cd6b03c3e"
      },
      "outputs": [
        {
          "output_type": "display_data",
          "data": {
            "text/plain": [
              "<Figure size 576x432 with 1 Axes>"
            ],
            "image/png": "[encoded data removed]"
          },
          "metadata": {}
        }
      ],
      "source": [
        "plt.hist(amzn_return, bins = 25, edgecolor='w', density = True);\n",
        "overlay = np.linspace(mini, maxi, 100)\n",
        "#norm.pdf => Probability density function.\n",
        "plt.plot(overlay, norm.pdf(overlay, mean, std));"
      ]
    },
    {
      "cell_type": "markdown",
      "metadata": {
        "id": "xF_hj0KVhQZF"
      },
      "source": [
        "### 12. Compare normally distributed sample with same attributes as amzn price change"
      ]
    },
    {
      "cell_type": "code",
      "execution_count": 57,
      "metadata": {
        "colab": {
          "base_uri": "https://localhost:8080/",
          "height": 377
        },
        "id": "_7tOrmeChQZF",
        "outputId": "b2f6e90f-38f0-4622-a043-1d633ceec8af"
      },
      "outputs": [
        {
          "output_type": "display_data",
          "data": {
            "text/plain": [
              "<Figure size 576x432 with 1 Axes>"
            ],
            "image/png": "[encoded data removed]"
          },
          "metadata": {}
        }
      ],
      "source": [
        "plt.hist(x, bins =25, density = True)\n",
        "b = np.linspace(mini, maxi, 100)\n",
        "plt.plot(b,norm.pdf(b, mean, std))\n",
        "plt.xlim(-5,5);"
      ]
    },
    {
      "cell_type": "markdown",
      "metadata": {
        "id": "ZiiJkY50hQZG"
      },
      "source": [
        "## Is daily price change significantly different from zero?"
      ]
    },
    {
      "cell_type": "markdown",
      "metadata": {
        "id": "7BV_zCGFhQZG"
      },
      "source": [
        "### 13. Conduct simple hypothesis test"
      ]
    },
    {
      "cell_type": "code",
      "execution_count": 63,
      "metadata": {
        "colab": {
          "base_uri": "https://localhost:8080/"
        },
        "id": "LovuGucWhQZG",
        "outputId": "142e228b-f6dc-453b-8033-668d5b0ada39"
      },
      "outputs": [
        {
          "output_type": "execute_result",
          "data": {
            "text/plain": [
              "Ttest_1sampResult(statistic=1.6037614148660784, pvalue=0.1100241967380132)"
            ]
          },
          "metadata": {},
          "execution_count": 63
        }
      ],
      "source": [
        "# Calculates the T-test for the mean of ONE group of scores.\n",
        "# popmean(0) => Expected value in null hypothesis\n",
        "# two-sided => The mean of the underlying distribution of the sample is different than the given population mean (0)\n",
        "stats.ttest_1samp(amzn_return.sample(252), 0, alternative = 'two-sided')"
      ]
    },
    {
      "cell_type": "markdown",
      "source": [
        "So we have a 22% chance that if we reject the null we will be making a mistake. "
      ],
      "metadata": {
        "id": "1m3tIqNo4ebN"
      }
    },
    {
      "cell_type": "markdown",
      "metadata": {
        "id": "wxPEjvCyhQZH"
      },
      "source": [
        "## Can price movement be described as a random walk?"
      ]
    },
    {
      "cell_type": "markdown",
      "metadata": {
        "id": "V8AWZtXMhQZH"
      },
      "source": [
        "### 14. Create price lags"
      ]
    },
    {
      "cell_type": "markdown",
      "source": [
        "If the price is a random walk then it's going to be hard to predict "
      ],
      "metadata": {
        "id": "6CfM-beR46xW"
      }
    },
    {
      "cell_type": "code",
      "execution_count": 66,
      "metadata": {
        "colab": {
          "base_uri": "https://localhost:8080/",
          "height": 237
        },
        "id": "f7m_MU3phQZH",
        "outputId": "c27d87fc-241f-4e81-ede1-3a657c4be5b4"
      },
      "outputs": [
        {
          "output_type": "execute_result",
          "data": {
            "text/plain": [
              "                Close      lag_1      lag_2\n",
              "Date                                       \n",
              "2017-10-05  49.042500  48.272499  47.855000\n",
              "2017-10-06  49.479000  49.042500  48.272499\n",
              "2017-10-09  49.549500  49.479000  49.042500\n",
              "2017-10-10  49.360001  49.549500  49.479000\n",
              "2017-10-11  49.750000  49.360001  49.549500"
            ],
            "text/html": [
              "\n",
              "  <div id=\"df-e9a167c3-0c59-4694-859a-0fd6b3200348\">\n",
              "    <div class=\"colab-df-container\">\n",
              "      <div>\n",
              "<style scoped>\n",
              "    .dataframe tbody tr th:only-of-type {\n",
              "        vertical-align: middle;\n",
              "    }\n",
              "\n",
              "    .dataframe tbody tr th {\n",
              "        vertical-align: top;\n",
              "    }\n",
              "\n",
              "    .dataframe thead th {\n",
              "        text-align: right;\n",
              "    }\n",
              "</style>\n",
              "<table border=\"1\" class=\"dataframe\">\n",
              "  <thead>\n",
              "    <tr style=\"text-align: right;\">\n",
              "      <th></th>\n",
              "      <th>Close</th>\n",
              "      <th>lag_1</th>\n",
              "      <th>lag_2</th>\n",
              "    </tr>\n",
              "    <tr>\n",
              "      <th>Date</th>\n",
              "      <th></th>\n",
              "      <th></th>\n",
              "      <th></th>\n",
              "    </tr>\n",
              "  </thead>\n",
              "  <tbody>\n",
              "    <tr>\n",
              "      <th>2017-10-05</th>\n",
              "      <td>49.042500</td>\n",
              "      <td>48.272499</td>\n",
              "      <td>47.855000</td>\n",
              "    </tr>\n",
              "    <tr>\n",
              "      <th>2017-10-06</th>\n",
              "      <td>49.479000</td>\n",
              "      <td>49.042500</td>\n",
              "      <td>48.272499</td>\n",
              "    </tr>\n",
              "    <tr>\n",
              "      <th>2017-10-09</th>\n",
              "      <td>49.549500</td>\n",
              "      <td>49.479000</td>\n",
              "      <td>49.042500</td>\n",
              "    </tr>\n",
              "    <tr>\n",
              "      <th>2017-10-10</th>\n",
              "      <td>49.360001</td>\n",
              "      <td>49.549500</td>\n",
              "      <td>49.479000</td>\n",
              "    </tr>\n",
              "    <tr>\n",
              "      <th>2017-10-11</th>\n",
              "      <td>49.750000</td>\n",
              "      <td>49.360001</td>\n",
              "      <td>49.549500</td>\n",
              "    </tr>\n",
              "  </tbody>\n",
              "</table>\n",
              "</div>\n",
              "      <button class=\"colab-df-convert\" onclick=\"convertToInteractive('df-e9a167c3-0c59-4694-859a-0fd6b3200348')\"\n",
              "              title=\"Convert this dataframe to an interactive table.\"\n",
              "              style=\"display:none;\">\n",
              "        \n",
              "  <svg xmlns=\"http://www.w3.org/2000/svg\" height=\"24px\"viewBox=\"0 0 24 24\"\n",
              "       width=\"24px\">\n",
              "    <path d=\"M0 0h24v24H0V0z\" fill=\"none\"/>\n",
              "    <path d=\"M18.56 5.44l.94 2.06.94-2.06 2.06-.94-2.06-.94-.94-2.06-.94 2.06-2.06.94zm-11 1L8.5 8.5l.94-2.06 2.06-.94-2.06-.94L8.5 2.5l-.94 2.06-2.06.94zm10 10l.94 2.06.94-2.06 2.06-.94-2.06-.94-.94-2.06-.94 2.06-2.06.94z\"/><path d=\"M17.41 7.96l-1.37-1.37c-.4-.4-.92-.59-1.43-.59-.52 0-1.04.2-1.43.59L10.3 9.45l-7.72 7.72c-.78.78-.78 2.05 0 2.83L4 21.41c.39.39.9.59 1.41.59.51 0 1.02-.2 1.41-.59l7.78-7.78 2.81-2.81c.8-.78.8-2.07 0-2.86zM5.41 20L4 18.59l7.72-7.72 1.47 1.35L5.41 20z\"/>\n",
              "  </svg>\n",
              "      </button>\n",
              "      \n",
              "  <style>\n",
              "    .colab-df-container {\n",
              "      display:flex;\n",
              "      flex-wrap:wrap;\n",
              "      gap: 12px;\n",
              "    }\n",
              "\n",
              "    .colab-df-convert {\n",
              "      background-color: #E8F0FE;\n",
              "      border: none;\n",
              "      border-radius: 50%;\n",
              "      cursor: pointer;\n",
              "      display: none;\n",
              "      fill: #1967D2;\n",
              "      height: 32px;\n",
              "      padding: 0 0 0 0;\n",
              "      width: 32px;\n",
              "    }\n",
              "\n",
              "    .colab-df-convert:hover {\n",
              "      background-color: #E2EBFA;\n",
              "      box-shadow: 0px 1px 2px rgba(60, 64, 67, 0.3), 0px 1px 3px 1px rgba(60, 64, 67, 0.15);\n",
              "      fill: #174EA6;\n",
              "    }\n",
              "\n",
              "    [theme=dark] .colab-df-convert {\n",
              "      background-color: #3B4455;\n",
              "      fill: #D2E3FC;\n",
              "    }\n",
              "\n",
              "    [theme=dark] .colab-df-convert:hover {\n",
              "      background-color: #434B5C;\n",
              "      box-shadow: 0px 1px 3px 1px rgba(0, 0, 0, 0.15);\n",
              "      filter: drop-shadow(0px 1px 2px rgba(0, 0, 0, 0.3));\n",
              "      fill: #FFFFFF;\n",
              "    }\n",
              "  </style>\n",
              "\n",
              "      <script>\n",
              "        const buttonEl =\n",
              "          document.querySelector('#df-e9a167c3-0c59-4694-859a-0fd6b3200348 button.colab-df-convert');\n",
              "        buttonEl.style.display =\n",
              "          google.colab.kernel.accessAllowed ? 'block' : 'none';\n",
              "\n",
              "        async function convertToInteractive(key) {\n",
              "          const element = document.querySelector('#df-e9a167c3-0c59-4694-859a-0fd6b3200348');\n",
              "          const dataTable =\n",
              "            await google.colab.kernel.invokeFunction('convertToInteractive',\n",
              "                                                     [key], {});\n",
              "          if (!dataTable) return;\n",
              "\n",
              "          const docLinkHtml = 'Like what you see? Visit the ' +\n",
              "            '<a target=\"_blank\" href=https://colab.research.google.com/notebooks/data_table.ipynb>data table notebook</a>'\n",
              "            + ' to learn more about interactive tables.';\n",
              "          element.innerHTML = '';\n",
              "          dataTable['output_type'] = 'display_data';\n",
              "          await google.colab.output.renderOutput(dataTable, element);\n",
              "          const docLink = document.createElement('div');\n",
              "          docLink.innerHTML = docLinkHtml;\n",
              "          element.appendChild(docLink);\n",
              "        }\n",
              "      </script>\n",
              "    </div>\n",
              "  </div>\n",
              "  "
            ]
          },
          "metadata": {},
          "execution_count": 66
        }
      ],
      "source": [
        "amzn_close = pd.DataFrame(amzn_close, columns = ['Close'])\n",
        "amzn_close['lag_1'] = amzn_close.Close.shift(1)\n",
        "amzn_close['lag_2'] = amzn_close.Close.shift(2)\n",
        "amzn_close.dropna(inplace = True)\n",
        "amzn_close.head()"
      ]
    },
    {
      "cell_type": "markdown",
      "metadata": {
        "id": "kh5aPBX4hQZH"
      },
      "source": [
        "### 15. Fit linear model"
      ]
    },
    {
      "cell_type": "code",
      "execution_count": 78,
      "metadata": {
        "colab": {
          "base_uri": "https://localhost:8080/"
        },
        "id": "jcOI4BnMhQZI",
        "outputId": "65d50404-ff19-4225-ba3f-a530d325e8c8"
      },
      "outputs": [
        {
          "output_type": "execute_result",
          "data": {
            "text/plain": [
              "array([0.96906017, 0.03099705])"
            ]
          },
          "metadata": {},
          "execution_count": 78
        }
      ],
      "source": [
        "# np.linalg.lstsq => Return the least-squares solution to a linear matrix equation.(Ax = b)\n",
        "# return Least-squares solution\n",
        "lr = np.linalg.lstsq(amzn_close[['lag_1', 'lag_2']], amzn_close['Close'], rcond = None)[0]\n",
        "lr"
      ]
    },
    {
      "cell_type": "markdown",
      "source": [
        "96% of tomorrow's price can be predicted by today's "
      ],
      "metadata": {
        "id": "YMMkWI2A6b6Y"
      }
    },
    {
      "cell_type": "code",
      "execution_count": 77,
      "metadata": {
        "colab": {
          "base_uri": "https://localhost:8080/",
          "height": 237
        },
        "id": "u7aCtYsrhQZI",
        "outputId": "b6c65fd5-b93a-4c1b-9c94-e988b085c582"
      },
      "outputs": [
        {
          "output_type": "execute_result",
          "data": {
            "text/plain": [
              "                Close      lag_1      lag_2    predict\n",
              "Date                                                  \n",
              "2017-10-05  49.042500  48.272499  47.855000  48.262320\n",
              "2017-10-06  49.479000  49.042500  48.272499  49.021438\n",
              "2017-10-09  49.549500  49.479000  49.042500  49.468301\n",
              "2017-10-10  49.360001  49.549500  49.479000  49.550149\n",
              "2017-10-11  49.750000  49.360001  49.549500  49.368699"
            ],
            "text/html": [
              "\n",
              "  <div id=\"df-8a211c88-1661-40cd-baad-29c0ec2d8db8\">\n",
              "    <div class=\"colab-df-container\">\n",
              "      <div>\n",
              "<style scoped>\n",
              "    .dataframe tbody tr th:only-of-type {\n",
              "        vertical-align: middle;\n",
              "    }\n",
              "\n",
              "    .dataframe tbody tr th {\n",
              "        vertical-align: top;\n",
              "    }\n",
              "\n",
              "    .dataframe thead th {\n",
              "        text-align: right;\n",
              "    }\n",
              "</style>\n",
              "<table border=\"1\" class=\"dataframe\">\n",
              "  <thead>\n",
              "    <tr style=\"text-align: right;\">\n",
              "      <th></th>\n",
              "      <th>Close</th>\n",
              "      <th>lag_1</th>\n",
              "      <th>lag_2</th>\n",
              "      <th>predict</th>\n",
              "    </tr>\n",
              "    <tr>\n",
              "      <th>Date</th>\n",
              "      <th></th>\n",
              "      <th></th>\n",
              "      <th></th>\n",
              "      <th></th>\n",
              "    </tr>\n",
              "  </thead>\n",
              "  <tbody>\n",
              "    <tr>\n",
              "      <th>2017-10-05</th>\n",
              "      <td>49.042500</td>\n",
              "      <td>48.272499</td>\n",
              "      <td>47.855000</td>\n",
              "      <td>48.262320</td>\n",
              "    </tr>\n",
              "    <tr>\n",
              "      <th>2017-10-06</th>\n",
              "      <td>49.479000</td>\n",
              "      <td>49.042500</td>\n",
              "      <td>48.272499</td>\n",
              "      <td>49.021438</td>\n",
              "    </tr>\n",
              "    <tr>\n",
              "      <th>2017-10-09</th>\n",
              "      <td>49.549500</td>\n",
              "      <td>49.479000</td>\n",
              "      <td>49.042500</td>\n",
              "      <td>49.468301</td>\n",
              "    </tr>\n",
              "    <tr>\n",
              "      <th>2017-10-10</th>\n",
              "      <td>49.360001</td>\n",
              "      <td>49.549500</td>\n",
              "      <td>49.479000</td>\n",
              "      <td>49.550149</td>\n",
              "    </tr>\n",
              "    <tr>\n",
              "      <th>2017-10-11</th>\n",
              "      <td>49.750000</td>\n",
              "      <td>49.360001</td>\n",
              "      <td>49.549500</td>\n",
              "      <td>49.368699</td>\n",
              "    </tr>\n",
              "  </tbody>\n",
              "</table>\n",
              "</div>\n",
              "      <button class=\"colab-df-convert\" onclick=\"convertToInteractive('df-8a211c88-1661-40cd-baad-29c0ec2d8db8')\"\n",
              "              title=\"Convert this dataframe to an interactive table.\"\n",
              "              style=\"display:none;\">\n",
              "        \n",
              "  <svg xmlns=\"http://www.w3.org/2000/svg\" height=\"24px\"viewBox=\"0 0 24 24\"\n",
              "       width=\"24px\">\n",
              "    <path d=\"M0 0h24v24H0V0z\" fill=\"none\"/>\n",
              "    <path d=\"M18.56 5.44l.94 2.06.94-2.06 2.06-.94-2.06-.94-.94-2.06-.94 2.06-2.06.94zm-11 1L8.5 8.5l.94-2.06 2.06-.94-2.06-.94L8.5 2.5l-.94 2.06-2.06.94zm10 10l.94 2.06.94-2.06 2.06-.94-2.06-.94-.94-2.06-.94 2.06-2.06.94z\"/><path d=\"M17.41 7.96l-1.37-1.37c-.4-.4-.92-.59-1.43-.59-.52 0-1.04.2-1.43.59L10.3 9.45l-7.72 7.72c-.78.78-.78 2.05 0 2.83L4 21.41c.39.39.9.59 1.41.59.51 0 1.02-.2 1.41-.59l7.78-7.78 2.81-2.81c.8-.78.8-2.07 0-2.86zM5.41 20L4 18.59l7.72-7.72 1.47 1.35L5.41 20z\"/>\n",
              "  </svg>\n",
              "      </button>\n",
              "      \n",
              "  <style>\n",
              "    .colab-df-container {\n",
              "      display:flex;\n",
              "      flex-wrap:wrap;\n",
              "      gap: 12px;\n",
              "    }\n",
              "\n",
              "    .colab-df-convert {\n",
              "      background-color: #E8F0FE;\n",
              "      border: none;\n",
              "      border-radius: 50%;\n",
              "      cursor: pointer;\n",
              "      display: none;\n",
              "      fill: #1967D2;\n",
              "      height: 32px;\n",
              "      padding: 0 0 0 0;\n",
              "      width: 32px;\n",
              "    }\n",
              "\n",
              "    .colab-df-convert:hover {\n",
              "      background-color: #E2EBFA;\n",
              "      box-shadow: 0px 1px 2px rgba(60, 64, 67, 0.3), 0px 1px 3px 1px rgba(60, 64, 67, 0.15);\n",
              "      fill: #174EA6;\n",
              "    }\n",
              "\n",
              "    [theme=dark] .colab-df-convert {\n",
              "      background-color: #3B4455;\n",
              "      fill: #D2E3FC;\n",
              "    }\n",
              "\n",
              "    [theme=dark] .colab-df-convert:hover {\n",
              "      background-color: #434B5C;\n",
              "      box-shadow: 0px 1px 3px 1px rgba(0, 0, 0, 0.15);\n",
              "      filter: drop-shadow(0px 1px 2px rgba(0, 0, 0, 0.3));\n",
              "      fill: #FFFFFF;\n",
              "    }\n",
              "  </style>\n",
              "\n",
              "      <script>\n",
              "        const buttonEl =\n",
              "          document.querySelector('#df-8a211c88-1661-40cd-baad-29c0ec2d8db8 button.colab-df-convert');\n",
              "        buttonEl.style.display =\n",
              "          google.colab.kernel.accessAllowed ? 'block' : 'none';\n",
              "\n",
              "        async function convertToInteractive(key) {\n",
              "          const element = document.querySelector('#df-8a211c88-1661-40cd-baad-29c0ec2d8db8');\n",
              "          const dataTable =\n",
              "            await google.colab.kernel.invokeFunction('convertToInteractive',\n",
              "                                                     [key], {});\n",
              "          if (!dataTable) return;\n",
              "\n",
              "          const docLinkHtml = 'Like what you see? Visit the ' +\n",
              "            '<a target=\"_blank\" href=https://colab.research.google.com/notebooks/data_table.ipynb>data table notebook</a>'\n",
              "            + ' to learn more about interactive tables.';\n",
              "          element.innerHTML = '';\n",
              "          dataTable['output_type'] = 'display_data';\n",
              "          await google.colab.output.renderOutput(dataTable, element);\n",
              "          const docLink = document.createElement('div');\n",
              "          docLink.innerHTML = docLinkHtml;\n",
              "          element.appendChild(docLink);\n",
              "        }\n",
              "      </script>\n",
              "    </div>\n",
              "  </div>\n",
              "  "
            ]
          },
          "metadata": {},
          "execution_count": 77
        }
      ],
      "source": [
        "#np.dot() => Dot product of two arrays.\n",
        "amzn_close['predict'] = np.dot(amzn_close[['lag_1', 'lag_2']], lr)\n",
        "amzn_close.head()"
      ]
    },
    {
      "cell_type": "code",
      "execution_count": 75,
      "metadata": {
        "colab": {
          "base_uri": "https://localhost:8080/",
          "height": 400
        },
        "id": "mXT006_yhQZI",
        "outputId": "ea5137e1-a660-4762-c347-d4abf56f4ac3"
      },
      "outputs": [
        {
          "output_type": "execute_result",
          "data": {
            "text/plain": [
              "<matplotlib.axes._subplots.AxesSubplot at 0x7f8faad1df50>"
            ]
          },
          "metadata": {},
          "execution_count": 75
        },
        {
          "output_type": "display_data",
          "data": {
            "text/plain": [
              "<Figure size 576x432 with 1 Axes>"
            ],
            "image/png": "[encoded data removed]"
          },
          "metadata": {}
        }
      ],
      "source": [
        "amzn_close.iloc[-252:][['Close','predict']].plot()"
      ]
    }
  ],
  "metadata": {
    "kernelspec": {
      "display_name": "Python 3",
      "language": "python",
      "name": "python3"
    },
    "language_info": {
      "codemirror_mode": {
        "name": "ipython",
        "version": 3
      },
      "file_extension": ".py",
      "mimetype": "text/x-python",
      "name": "python",
      "nbconvert_exporter": "python",
      "pygments_lexer": "ipython3",
      "version": "3.7.5"
    },
    "colab": {
      "provenance": [],
      "include_colab_link": true
    }
  },
  "nbformat": 4,
  "nbformat_minor": 0
}